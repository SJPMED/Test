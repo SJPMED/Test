{
 "cells": [
  {
   "cell_type": "code",
   "execution_count": 1,
   "id": "760df1d0",
   "metadata": {},
   "outputs": [
    {
     "name": "stdout",
     "output_type": "stream",
     "text": [
      "FOO\n"
     ]
    }
   ],
   "source": [
    "print(\"FOO\")"
   ]
  },
  {
   "cell_type": "code",
   "execution_count": 2,
   "id": "a0fceff6",
   "metadata": {},
   "outputs": [],
   "source": [
    "a = 1\n",
    "b = 2 "
   ]
  },
  {
   "cell_type": "markdown",
   "id": "a4ce3ed9",
   "metadata": {},
   "source": [
    "hallo"
   ]
  },
  {
   "cell_type": "code",
   "execution_count": null,
   "id": "dae9464a",
   "metadata": {},
   "outputs": [],
   "source": []
  }
 ],
 "metadata": {
  "kernelspec": {
   "display_name": "md-project",
   "language": "python",
   "name": "python3"
  },
  "language_info": {
   "codemirror_mode": {
    "name": "ipython",
    "version": 3
   },
   "file_extension": ".py",
   "mimetype": "text/x-python",
   "name": "python",
   "nbconvert_exporter": "python",
   "pygments_lexer": "ipython3",
   "version": "3.11.13"
  }
 },
 "nbformat": 4,
 "nbformat_minor": 5
}
